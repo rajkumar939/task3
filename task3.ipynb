{
  "nbformat": 4,
  "nbformat_minor": 0,
  "metadata": {
    "colab": {
      "provenance": [],
      "authorship_tag": "ABX9TyPVNB/iNH9QIzacyzHf7NMk",
      "include_colab_link": true
    },
    "kernelspec": {
      "name": "python3",
      "display_name": "Python 3"
    },
    "language_info": {
      "name": "python"
    }
  },
  "cells": [
    {
      "cell_type": "markdown",
      "metadata": {
        "id": "view-in-github",
        "colab_type": "text"
      },
      "source": [
        "<a href=\"https://colab.research.google.com/github/rajkumar939/task3/blob/main/task3.ipynb\" target=\"_parent\"><img src=\"https://colab.research.google.com/assets/colab-badge.svg\" alt=\"Open In Colab\"/></a>"
      ]
    },
    {
      "cell_type": "code",
      "execution_count": 2,
      "metadata": {
        "colab": {
          "base_uri": "https://localhost:8080/"
        },
        "id": "bMHls2-qMH33",
        "outputId": "abac735d-d9a7-4e61-9422-b68f63bf6d35"
      },
      "outputs": [
        {
          "output_type": "stream",
          "name": "stdout",
          "text": [
            "Requirement already satisfied: nltk in /usr/local/lib/python3.10/dist-packages (3.8.1)\n",
            "Requirement already satisfied: click in /usr/local/lib/python3.10/dist-packages (from nltk) (8.1.7)\n",
            "Requirement already satisfied: joblib in /usr/local/lib/python3.10/dist-packages (from nltk) (1.4.2)\n",
            "Requirement already satisfied: regex>=2021.8.3 in /usr/local/lib/python3.10/dist-packages (from nltk) (2024.5.15)\n",
            "Requirement already satisfied: tqdm in /usr/local/lib/python3.10/dist-packages (from nltk) (4.66.5)\n"
          ]
        }
      ],
      "source": [
        "pip install nltk\n"
      ]
    },
    {
      "cell_type": "code",
      "source": [
        "import nltk\n",
        "from nltk.chat.util import Chat, reflections\n",
        "\n",
        "# Pairs is a list of patterns and responses.\n",
        "# Patterns are possible inputs from the user and responses are how the chatbot should respond.\n",
        "pairs = [\n",
        "    [\n",
        "        r\"(hi|hello|hey|hola|bonjour|hii)\",\n",
        "        [\"Hello!\", \"Hi there!\", \"Hey!\", \"Greetings!\"]\n",
        "    ],\n",
        "    [\n",
        "        r\"how are you ?\",\n",
        "        [\"I'm doing well, thank you!\", \"I'm fine, how about you?\"]\n",
        "    ],\n",
        "    [\n",
        "        r\"what is your name ?\",\n",
        "        [\"I'm a chatbot. What's yours?\"]\n",
        "    ],\n",
        "    [\n",
        "        r\"quit\",\n",
        "        [\"Goodbye! It was nice talking to you.\"]\n",
        "    ],\n",
        "    [\n",
        "        r\"(.*)\",\n",
        "        [\"I'm not sure I understand. Could you rephrase?\"]\n",
        "    ]\n",
        "]\n",
        "\n",
        "# Create a chatbot instance\n",
        "chatbot = Chat(pairs, reflections)\n",
        "\n",
        "# Function to start a conversation\n",
        "def chatbot_conversation():\n",
        "    print(\"Hello! I am a simple chatbot. Type 'quit' to exit.\")\n",
        "    while True:\n",
        "        user_input = input(\"You: \")\n",
        "        if user_input.lower() == \"quit\":\n",
        "            print(\"Bot: Goodbye! It was nice talking to you.\")\n",
        "            break\n",
        "        response = chatbot.respond(user_input)\n",
        "        print(f\"Bot: {response}\")\n",
        "\n",
        "# Run the chatbot conversation\n",
        "if __name__ == \"__main__\":\n",
        "    chatbot_conversation()\n"
      ],
      "metadata": {
        "colab": {
          "base_uri": "https://localhost:8080/"
        },
        "id": "qK6LA_LJQGoF",
        "outputId": "644ee371-3fb9-4502-e40b-ba0419e8d1e0"
      },
      "execution_count": 3,
      "outputs": [
        {
          "output_type": "stream",
          "name": "stdout",
          "text": [
            "Hello! I am a simple chatbot. Type 'quit' to exit.\n",
            "You: hi\n",
            "Bot: Hello!\n",
            "You: how are you\n",
            "Bot: I'm doing well, thank you!\n",
            "You: what is your name\n",
            "Bot: I'm a chatbot. What's yours?\n",
            "You: quit\n",
            "Bot: Goodbye! It was nice talking to you.\n"
          ]
        }
      ]
    },
    {
      "cell_type": "code",
      "source": [
        "import spacy\n",
        "\n",
        "# Load English tokenizer, POS tagger, etc.\n",
        "nlp = spacy.load(\"en_core_web_sm\")\n",
        "\n",
        "# Process a text\n",
        "doc = nlp(\"Hello! My name is Chatbot.\")\n",
        "\n",
        "# Print the entities in the text\n",
        "for token in doc:\n",
        "    print(token.text, token.pos_, token.dep_)\n"
      ],
      "metadata": {
        "colab": {
          "base_uri": "https://localhost:8080/"
        },
        "id": "ieGBwAmZQhVT",
        "outputId": "adc3223a-d949-4b85-e266-84b7676f015e"
      },
      "execution_count": 4,
      "outputs": [
        {
          "output_type": "stream",
          "name": "stdout",
          "text": [
            "Hello INTJ ROOT\n",
            "! PUNCT punct\n",
            "My PRON poss\n",
            "name NOUN nsubj\n",
            "is AUX ROOT\n",
            "Chatbot PROPN attr\n",
            ". PUNCT punct\n"
          ]
        }
      ]
    }
  ]
}